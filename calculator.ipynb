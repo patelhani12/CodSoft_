{
 "cells": [
  {
   "cell_type": "markdown",
   "id": "a63fd284",
   "metadata": {},
   "source": [
    "# task1 : Calculator"
   ]
  },
  {
   "cell_type": "code",
   "execution_count": 3,
   "id": "482878cd",
   "metadata": {},
   "outputs": [],
   "source": [
    "from tkinter import *\n",
    "\n",
    "def btnClick(numbers):\n",
    "    global operator\n",
    "    operator=operator + str(numbers)\n",
    "    text_Input.set(operator)\n",
    "       \n",
    "def btnClearDisplay():\n",
    "    global operator\n",
    "    operator=\"\"\n",
    "    text_Input.set(\"\")\n",
    "    \n",
    "def btnEqualsInput():\n",
    "    global operator\n",
    "    sumup=str(eval(operator))\n",
    "    text_Input.set(sumup)\n",
    "    operator=\"\"\n",
    "\n",
    "cal = Tk()\n",
    "cal.title(\"calculator\")\n",
    "operator=\"\"\n",
    "text_Input=StringVar()\n",
    "\n",
    "txtDisplay = Entry(cal,font=('arial', 20,'bold'),textvariable=text_Input, bd=30, insertwidth=4,\n",
    "                   bg=\"powder blue\",justify='right').grid(columnspan=4)\n",
    "btn7=Button(cal,padx=16,bd=8,fg=\"black\",font=('arial', 20,'bold'),\n",
    "           text=\"7\", bg=\"powder blue\",command=lambda:btnClick(7)).grid(row=1,column=0)\n",
    "btn8=Button(cal,padx=16,bd=8,fg=\"black\",font=('arial', 20,'bold'),\n",
    "           text=\"8\", bg=\"powder blue\",command=lambda:btnClick(8)).grid(row=1,column=1)\n",
    "btn9=Button(cal,padx=16,bd=8,fg=\"black\",font=('arial', 20,'bold'),\n",
    "           text=\"9\", bg=\"powder blue\",command=lambda:btnClick(9)).grid(row=1,column=2)\n",
    "Addition=Button(cal,padx=16,bd=8,fg=\"black\",font=('arial', 20,'bold'),\n",
    "           text=\"+\", bg=\"powder blue\",command=lambda:btnClick(\"+\")).grid(row=1,column=3)\n",
    "#======================================================================\n",
    "btn4=Button(cal,padx=16,bd=8,fg=\"black\",font=('arial', 20,'bold'),\n",
    "           text=\"4\", bg=\"powder blue\",command=lambda:btnClick(4)).grid(row=2,column=0)\n",
    "btn5=Button(cal,padx=16,bd=8,fg=\"black\",font=('arial', 20,'bold'),\n",
    "           text=\"5\", bg=\"powder blue\",command=lambda:btnClick(5)).grid(row=2,column=1)\n",
    "btn6=Button(cal,padx=16,bd=8,fg=\"black\",font=('arial', 20,'bold'),\n",
    "           text=\"6\", bg=\"powder blue\",command=lambda:btnClick(6)).grid(row=2,column=2)\n",
    "Subtraction=Button(cal,padx=16,bd=8,fg=\"black\",font=('arial', 20,'bold'),\n",
    "           text=\"-\", bg=\"powder blue\",command=lambda:btnClick(\"-\")).grid(row=2,column=3)\n",
    "#===============================================================================\n",
    "btn1=Button(cal,padx=16,bd=8,fg=\"black\",font=('arial', 20,'bold'),\n",
    "           text=\"1\", bg=\"powder blue\",command=lambda:btnClick(1)).grid(row=3,column=0)\n",
    "btn2=Button(cal,padx=16,bd=8,fg=\"black\",font=('arial', 20,'bold'),\n",
    "           text=\"2\", bg=\"powder blue\",command=lambda:btnClick(2)).grid(row=3,column=1)\n",
    "btn3=Button(cal,padx=16,bd=8,fg=\"black\",font=('arial', 20,'bold'),\n",
    "           text=\"3\", bg=\"powder blue\",command=lambda:btnClick(3)).grid(row=3,column=2)\n",
    "Multiplication=Button(cal,padx=16,bd=8,fg=\"black\",font=('arial', 20,'bold'),\n",
    "           text=\"*\", bg=\"powder blue\",command=lambda:btnClick(\"*\")).grid(row=3,column=3)\n",
    "#==============================================================================\n",
    "btn0=Button(cal,padx=16,bd=8,fg=\"black\",font=('arial', 20,'bold'),\n",
    "           text=\"0\", bg=\"powder blue\",command=lambda:btnClick(0)).grid(row=4,column=0)\n",
    "btnClear=Button(cal,padx=16,bd=8,fg=\"black\",font=('arial', 20,'bold'),\n",
    "           text=\"C\", bg=\"powder blue\",command=btnClearDisplay).grid(row=4,column=1)\n",
    "btnEquals=Button(cal,padx=16,bd=8,fg=\"black\",font=('arial', 20,'bold'),\n",
    "           text=\"=\", bg=\"powder blue\",command=btnEqualsInput).grid(row=4,column=2)\n",
    "Division=Button(cal,padx=16,bd=8,fg=\"black\",font=('arial', 20,'bold'),\n",
    "           text=\"/\", bg=\"powder blue\",command=lambda:btnClick(\"/\")).grid(row=4,column=3)\n",
    "\n",
    "cal.mainloop()"
   ]
  },
  {
   "cell_type": "code",
   "execution_count": null,
   "id": "d4a31012",
   "metadata": {},
   "outputs": [],
   "source": []
  },
  {
   "cell_type": "code",
   "execution_count": null,
   "id": "99d78a24",
   "metadata": {},
   "outputs": [],
   "source": []
  }
 ],
 "metadata": {
  "kernelspec": {
   "display_name": "Python 3 (ipykernel)",
   "language": "python",
   "name": "python3"
  },
  "language_info": {
   "codemirror_mode": {
    "name": "ipython",
    "version": 3
   },
   "file_extension": ".py",
   "mimetype": "text/x-python",
   "name": "python",
   "nbconvert_exporter": "python",
   "pygments_lexer": "ipython3",
   "version": "3.11.4"
  }
 },
 "nbformat": 4,
 "nbformat_minor": 5
}
