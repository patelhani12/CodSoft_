{
 "cells": [
  {
   "cell_type": "markdown",
   "id": "a2f67170",
   "metadata": {},
   "source": [
    "# task:2 Password generator"
   ]
  },
  {
   "cell_type": "code",
   "execution_count": 1,
   "id": "9d7bf58f",
   "metadata": {},
   "outputs": [],
   "source": [
    "import string\n",
    "import random\n",
    "from tkinter import *\n",
    "\n",
    "\n",
    "root=Tk()\n",
    "root.title(\"Random password generator Tool\")\n",
    "\n",
    "\n",
    "label_title=Label(root,text=\"choose the strength of your password\",fg='white',bg='blue',font=('Helvtica',15))\n",
    "label_title.pack()\n",
    "\n",
    "def selection():\n",
    "    selection = choice.get()\n",
    "\n",
    "choice = IntVar()\n",
    "rb1 = Radiobutton(root,text=\"poor password\",variable=choice,value=1,command=selection)\n",
    "rb1.pack()\n",
    "rb2 = Radiobutton(root,text=\"Average password\",variable=choice,value=2,command=selection)\n",
    "rb2.pack()\n",
    "rb3 = Radiobutton(root,text=\"Strong password\",variable=choice,value=3,command=selection)\n",
    "rb3.pack()\n",
    "\n",
    "\n",
    "label_space=Label(root)\n",
    "label_space.pack()\n",
    "\n",
    "label_password = Label(root,text=\"choose the strength of your password\")\n",
    "label_password.pack()\n",
    "\n",
    "val = IntVar()\n",
    "spinlength = Spinbox(root, from_=3, to_=30, textvariable=val, width=15 )\n",
    "spinlength.pack()\n",
    "\n",
    "\n",
    "def callback():\n",
    "    result.config(text=passgen())\n",
    "button_submit = Button(root, text=\"generate Password\",command=callback)\n",
    "button_submit.pack(pady=10)\n",
    "\n",
    "\n",
    "result = Message(root,text=\"\",relief=RAISED,width=200,font=(25))\n",
    "result.pack(side=BOTTOM)\n",
    "\n",
    "\n",
    "poor=string.ascii_uppercase + string.ascii_lowercase\n",
    "average=string.ascii_uppercase + string.ascii_lowercase + string.digits\n",
    "advance=string.ascii_uppercase + string.ascii_lowercase + string.digits + string.punctuation\n",
    "\n",
    "def passgen():\n",
    "    if choice.get() == 1:\n",
    "        return \"\".join(random.sample(poor,val.get()))\n",
    "    elif choice.get() == 2:\n",
    "        return \"\".join(random.sample(average,val.get()))\n",
    "    elif choice.get() == 3:\n",
    "        return \"\".join(random.sample(advance,val.get()))\n",
    "    \n",
    "\n",
    "\n",
    "root.mainloop()"
   ]
  },
  {
   "cell_type": "code",
   "execution_count": null,
   "id": "fe33464a",
   "metadata": {},
   "outputs": [],
   "source": []
  }
 ],
 "metadata": {
  "kernelspec": {
   "display_name": "Python 3 (ipykernel)",
   "language": "python",
   "name": "python3"
  },
  "language_info": {
   "codemirror_mode": {
    "name": "ipython",
    "version": 3
   },
   "file_extension": ".py",
   "mimetype": "text/x-python",
   "name": "python",
   "nbconvert_exporter": "python",
   "pygments_lexer": "ipython3",
   "version": "3.11.4"
  }
 },
 "nbformat": 4,
 "nbformat_minor": 5
}
